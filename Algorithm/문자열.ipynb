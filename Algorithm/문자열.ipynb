{
 "cells": [
  {
   "cell_type": "code",
   "execution_count": 11,
   "metadata": {},
   "outputs": [
    {
     "name": "stdin",
     "output_type": "stream",
     "text": [
      " b\n"
     ]
    },
    {
     "name": "stdout",
     "output_type": "stream",
     "text": [
      "98\n"
     ]
    }
   ],
   "source": [
    "# 1 11654 아스키 코드\n",
    "print(ord(input()))"
   ]
  },
  {
   "cell_type": "code",
   "execution_count": 9,
   "metadata": {},
   "outputs": [
    {
     "name": "stdin",
     "output_type": "stream",
     "text": [
      " 1\n",
      " 12345\n"
     ]
    },
    {
     "name": "stdout",
     "output_type": "stream",
     "text": [
      "15\n"
     ]
    }
   ],
   "source": [
    "# 2 11720 숫자의 합\n",
    "input()\n",
    "print(sum(list(map(int, input()))))"
   ]
  },
  {
   "cell_type": "code",
   "execution_count": 15,
   "metadata": {},
   "outputs": [
    {
     "name": "stdin",
     "output_type": "stream",
     "text": [
      " baekjoon\n"
     ]
    },
    {
     "name": "stdout",
     "output_type": "stream",
     "text": [
      "1 0 -1 -1 2 -1 -1 -1 -1 4 3 -1 -1 7 5 -1 -1 -1 -1 -1 -1 -1 -1 -1 -1 -1\n"
     ]
    }
   ],
   "source": [
    "# 3 10809 알파벳 찾기\n",
    "result = [-1 for i in range(0,26)]\n",
    "a = list(input())\n",
    "for i in a:\n",
    "    idx = ord(i) - 97\n",
    "    if result[idx] == -1:\n",
    "        result[idx] = a.index(i)\n",
    "print(*result)"
   ]
  },
  {
   "cell_type": "code",
   "execution_count": 25,
   "metadata": {},
   "outputs": [
    {
     "name": "stdin",
     "output_type": "stream",
     "text": [
      " 2\n",
      " 3 ABC\n"
     ]
    },
    {
     "name": "stdout",
     "output_type": "stream",
     "text": [
      "AAABBBCCC\n"
     ]
    },
    {
     "name": "stdin",
     "output_type": "stream",
     "text": [
      " 5 /HTP\n"
     ]
    },
    {
     "name": "stdout",
     "output_type": "stream",
     "text": [
      "/////HHHHHTTTTTPPPPP\n"
     ]
    }
   ],
   "source": [
    "# 4 2675 문자열 반복\n",
    "for i in range(0, int(input())):\n",
    "    a = list(input().split())\n",
    "    b = list(a[1])\n",
    "    for j in b:\n",
    "        print(j*int(a[0]), end=\"\")\n",
    "    print()"
   ]
  },
  {
   "cell_type": "code",
   "execution_count": 47,
   "metadata": {},
   "outputs": [
    {
     "name": "stdin",
     "output_type": "stream",
     "text": [
      " abcdc\n"
     ]
    },
    {
     "name": "stdout",
     "output_type": "stream",
     "text": [
      "C\n"
     ]
    }
   ],
   "source": [
    "# 5 1157 단어 공부\n",
    "a = list(input().upper())\n",
    "b = list(set(a))\n",
    "max_cnt = -1\n",
    "result = \"?\"\n",
    "for i in range(0, len(b)):\n",
    "    cnt = a.count(b[i])\n",
    "    if cnt > max_cnt:\n",
    "        max_cnt = cnt\n",
    "        result = b[i]\n",
    "    elif cnt == max_cnt:\n",
    "        result = \"?\"\n",
    "print(result)"
   ]
  },
  {
   "cell_type": "code",
   "execution_count": 7,
   "metadata": {},
   "outputs": [
    {
     "name": "stdin",
     "output_type": "stream",
     "text": [
      " abcd a v a\n"
     ]
    },
    {
     "name": "stdout",
     "output_type": "stream",
     "text": [
      "4\n"
     ]
    }
   ],
   "source": [
    "# 6 1152 단어의 개수\n",
    "print(len(list(input().split())))"
   ]
  },
  {
   "cell_type": "code",
   "execution_count": 18,
   "metadata": {},
   "outputs": [
    {
     "name": "stdin",
     "output_type": "stream",
     "text": [
      " 734 893\n"
     ]
    },
    {
     "name": "stdout",
     "output_type": "stream",
     "text": [
      "437\n"
     ]
    }
   ],
   "source": [
    "# 7 2908 상수\n",
    "a, b = input().split()\n",
    "c = 0\n",
    "d = 0\n",
    "for i in range(0, 3):\n",
    "    c += int(a[i]) * (10 ** i)\n",
    "    d += int(b[i]) * (10 ** i)\n",
    "if c > d:\n",
    "    print(c)\n",
    "else:\n",
    "    print(d)\n",
    "\n",
    "# print(max(input()[::-1].split())) 배열 역순 저장: input[::-1]"
   ]
  },
  {
   "cell_type": "code",
   "execution_count": 58,
   "metadata": {},
   "outputs": [
    {
     "name": "stdin",
     "output_type": "stream",
     "text": [
      " UNUCIC\n"
     ]
    },
    {
     "name": "stdout",
     "output_type": "stream",
     "text": [
      "36\n"
     ]
    }
   ],
   "source": [
    "# 8 5622 다이얼\n",
    "arr = [\"ABC\", \"DEF\", \"GHI\", \"JKL\", \"MNO\", \"PQRS\", \"TUV\", \"WXYZ\"]\n",
    "a = list(input())\n",
    "result = 0\n",
    "for i in a:\n",
    "    j = 0\n",
    "    while True:\n",
    "        if arr[j].find(i) != -1:\n",
    "            result += j + 3\n",
    "            break\n",
    "        j += 1\n",
    "print(result)"
   ]
  },
  {
   "cell_type": "code",
   "execution_count": 65,
   "metadata": {},
   "outputs": [
    {
     "name": "stdin",
     "output_type": "stream",
     "text": [
      " ddz=z=\n"
     ]
    },
    {
     "name": "stdout",
     "output_type": "stream",
     "text": [
      "3\n"
     ]
    }
   ],
   "source": [
    "# 9 2941 크로아티아 알파벳\n",
    "arr = [\"c=\", \"c-\", \"dz=\", \"d-\", \"lj\", \"nj\", \"s=\", \"z=\"]\n",
    "a = input()\n",
    "cnt = len(a)\n",
    "for i in arr:\n",
    "    cnt -= a.count(i)\n",
    "print(cnt)"
   ]
  },
  {
   "cell_type": "code",
   "execution_count": 71,
   "metadata": {},
   "outputs": [
    {
     "name": "stdin",
     "output_type": "stream",
     "text": [
      " 3\n",
      " happy\n",
      " new\n",
      " year\n"
     ]
    },
    {
     "name": "stdout",
     "output_type": "stream",
     "text": [
      "1\n"
     ]
    }
   ],
   "source": [
    "# 10 1316 그룹 단어 체커\n",
    "cnt = 0\n",
    "for i in range(0, int(input())):\n",
    "    a = list(input())\n",
    "    l = len(a)\n",
    "    for j in range(0, l):\n",
    "        first = a[j]\n",
    "        a.remove(first)\n",
    "        while a.count\n",
    "        try:\n",
    "            idx = a.index(first)\n",
    "            \n",
    "print(cnt)"
   ]
  },
  {
   "cell_type": "code",
   "execution_count": 78,
   "metadata": {},
   "outputs": [
    {
     "name": "stdout",
     "output_type": "stream",
     "text": [
      "2\n",
      "['a', 'b', 'a', 'd']\n"
     ]
    }
   ],
   "source": [
    "a = [\"a\", \"b\", \"a\", \"d\"]\n",
    "print(a.count(\"a\"))\n",
    "print(a)"
   ]
  },
  {
   "cell_type": "code",
   "execution_count": null,
   "metadata": {},
   "outputs": [],
   "source": []
  }
 ],
 "metadata": {
  "kernelspec": {
   "display_name": "Python 3",
   "language": "python",
   "name": "python3"
  },
  "language_info": {
   "codemirror_mode": {
    "name": "ipython",
    "version": 3
   },
   "file_extension": ".py",
   "mimetype": "text/x-python",
   "name": "python",
   "nbconvert_exporter": "python",
   "pygments_lexer": "ipython3",
   "version": "3.7.3"
  }
 },
 "nbformat": 4,
 "nbformat_minor": 4
}
