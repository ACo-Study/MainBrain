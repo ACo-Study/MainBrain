{
 "cells": [
  {
   "cell_type": "code",
   "execution_count": 1,
   "metadata": {},
   "outputs": [
    {
     "name": "stdout",
     "output_type": "stream",
     "text": [
      "12\n"
     ]
    }
   ],
   "source": [
    "# 1 15596 정수 N개의 합\n",
    "def solve(a):\n",
    "    return sum(a)"
   ]
  },
  {
   "cell_type": "code",
   "execution_count": null,
   "metadata": {},
   "outputs": [],
   "source": [
    "# 2 4673 셀프 넘버\n",
    "arr = list(range(1, 10000))\n",
    "def self_number():\n",
    "    for i in arr:\n",
    "        while True:\n",
    "            s = i\n",
    "            while i > 0:\n",
    "                s += i % 10\n",
    "                i //= 10\n",
    "            if arr.count(s) == 0:\n",
    "                break\n",
    "            try:\n",
    "                arr.remove(s)\n",
    "            except:\n",
    "                continue\n",
    "            i = s\n",
    " \n",
    "self_number()\n",
    "print(*arr, sep=\"\\n\")"
   ]
  },
  {
   "cell_type": "code",
   "execution_count": null,
   "metadata": {},
   "outputs": [],
   "source": [
    "# 3 1065 한수\n",
    "n = int(input())\n",
    "hansu = 0\n",
    "\n",
    "if n < 99:\n",
    "    hansu = n\n",
    "else:\n",
    "    hansu = 99\n",
    "    for i in range(100, n+1):\n",
    "        num = list(map(int, str(i)))\n",
    "        if num[0] - num[1] == num[1] - num[2]:\n",
    "            hansu += 1\n",
    "print(hansu)"
   ]
  }
 ],
 "metadata": {
  "kernelspec": {
   "display_name": "Python 3",
   "language": "python",
   "name": "python3"
  },
  "language_info": {
   "codemirror_mode": {
    "name": "ipython",
    "version": 3
   },
   "file_extension": ".py",
   "mimetype": "text/x-python",
   "name": "python",
   "nbconvert_exporter": "python",
   "pygments_lexer": "ipython3",
   "version": "3.7.3"
  }
 },
 "nbformat": 4,
 "nbformat_minor": 4
}
