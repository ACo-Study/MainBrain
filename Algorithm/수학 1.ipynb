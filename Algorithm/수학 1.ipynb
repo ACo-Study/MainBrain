{
 "cells": [
  {
   "cell_type": "code",
   "execution_count": 8,
   "metadata": {},
   "outputs": [
    {
     "name": "stdin",
     "output_type": "stream",
     "text": [
      " 1000 7000 170\n"
     ]
    },
    {
     "name": "stdout",
     "output_type": "stream",
     "text": [
      "-1\n"
     ]
    }
   ],
   "source": [
    "# 1 1712 손익분기점\n",
    "a = list(map(int, input().split()))\n",
    "if a[1] >= a[2]:\n",
    "    print(-1)\n",
    "else:\n",
    "    print(a[0] // (a[2] - a[1]) + 1)\n",
    "    \n",
    "# 1등\n",
    "# a,b,c = map(int, input().split())\n",
    "# if b >= c:\n",
    "#     print(-1)\n",
    "# else:\n",
    "#     print(a//(c-b)+1)"
   ]
  },
  {
   "cell_type": "code",
   "execution_count": 7,
   "metadata": {},
   "outputs": [
    {
     "name": "stdout",
     "output_type": "stream",
     "text": [
      "9\n"
     ]
    }
   ],
   "source": [
    "# 2 2839 설탕 배달\n"
   ]
  }
 ],
 "metadata": {
  "kernelspec": {
   "display_name": "Python 3",
   "language": "python",
   "name": "python3"
  },
  "language_info": {
   "codemirror_mode": {
    "name": "ipython",
    "version": 3
   },
   "file_extension": ".py",
   "mimetype": "text/x-python",
   "name": "python",
   "nbconvert_exporter": "python",
   "pygments_lexer": "ipython3",
   "version": "3.7.3"
  }
 },
 "nbformat": 4,
 "nbformat_minor": 4
}
