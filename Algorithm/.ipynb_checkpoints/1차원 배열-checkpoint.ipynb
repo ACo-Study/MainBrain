{
 "cells": [
  {
   "cell_type": "code",
   "execution_count": null,
   "metadata": {},
   "outputs": [],
   "source": [
    "# 6 1546 평균\n",
    "input()\n",
    "score = list(map(int, input().split()))\n",
    "M = max(score)\n",
    "S = sum(score)\n",
    "print(round(S/M*100/len(score), 6))"
   ]
  },
  {
   "cell_type": "code",
   "execution_count": null,
   "metadata": {},
   "outputs": [],
   "source": [
    "# 7 8958 OX퀴즈\n",
    "all_score = []\n",
    "for i in range(0, int(input())):\n",
    "    ox = input()\n",
    "    score = 0\n",
    "    cnt = 0\n",
    "    for j in range(0, len(ox)):\n",
    "        if ox[j] == \"O\":\n",
    "            cnt += 1\n",
    "        else:\n",
    "            cnt = 0\n",
    "        score += cnt\n",
    "    all_score.append(score)\n",
    "print(*all_score, sep=\"\\n\")"
   ]
  },
  {
   "cell_type": "code",
   "execution_count": null,
   "metadata": {},
   "outputs": [],
   "source": [
    "# 8 4344 평균은 넘겠지\n",
    "result = []\n",
    "for i in range(0, int(input())):\n",
    "    score = list(map(int, input().split()))\n",
    "    cnt = score[0]\n",
    "    score.remove(cnt)\n",
    "    avg = sum(score) / cnt\n",
    "    b = list(filter(lambda x: x > avg, score))\n",
    "    result.append(len(b) / cnt * 100)\n",
    "for i in result:\n",
    "    print(\"%.3f%%\" % i)"
   ]
  }
 ],
 "metadata": {
  "kernelspec": {
   "display_name": "Python 3",
   "language": "python",
   "name": "python3"
  },
  "language_info": {
   "codemirror_mode": {
    "name": "ipython",
    "version": 3
   },
   "file_extension": ".py",
   "mimetype": "text/x-python",
   "name": "python",
   "nbconvert_exporter": "python",
   "pygments_lexer": "ipython3",
   "version": "3.7.4"
  }
 },
 "nbformat": 4,
 "nbformat_minor": 4
}
