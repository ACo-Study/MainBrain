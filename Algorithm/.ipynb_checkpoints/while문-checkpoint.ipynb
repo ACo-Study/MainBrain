{
 "cells": [
  {
   "cell_type": "code",
   "execution_count": null,
   "metadata": {},
   "outputs": [],
   "source": [
    "# 2 10951 A+B\n",
    "while True:\n",
    "    try:\n",
    "        print(sum(map(int, input().split())))\n",
    "    except:\n",
    "        break"
   ]
  },
  {
   "cell_type": "code",
   "execution_count": null,
   "metadata": {},
   "outputs": [
    {
     "name": "stdin",
     "output_type": "stream",
     "text": [
      " 1\n"
     ]
    }
   ],
   "source": [
    "# 3 1110 더하기 사이클\n",
    "a = input()\n",
    "b = a\n",
    "cnt = 0\n",
    "while True:\n",
    "    if len(a) == 1:\n",
    "        a = \"0\" + a\n",
    "        b = a\n",
    "    s = int(a[0]) + int(a[1])\n",
    "    s = str(s)\n",
    "    result = a[len(a)-1] + s[len(s)-1]\n",
    "    cnt += 1\n",
    "    if b == result:\n",
    "        break\n",
    "    a = result\n",
    "print(cnt)"
   ]
  }
 ],
 "metadata": {
  "kernelspec": {
   "display_name": "Python 3",
   "language": "python",
   "name": "python3"
  },
  "language_info": {
   "codemirror_mode": {
    "name": "ipython",
    "version": 3
   },
   "file_extension": ".py",
   "mimetype": "text/x-python",
   "name": "python",
   "nbconvert_exporter": "python",
   "pygments_lexer": "ipython3",
   "version": "3.7.4"
  }
 },
 "nbformat": 4,
 "nbformat_minor": 4
}
